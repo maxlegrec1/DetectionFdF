{
 "cells": [
  {
   "cell_type": "code",
   "execution_count": 153,
   "metadata": {},
   "outputs": [],
   "source": [
    "#https://larevueia.fr/machine-learning-pour-la-classification-automatique-de-musiques-avec-python/"
   ]
  },
  {
   "cell_type": "code",
   "execution_count": 24,
   "metadata": {},
   "outputs": [],
   "source": [
    "from pandas import DataFrame\n",
    "import pandas as pd\n",
    "import numpy as np\n",
    "import matplotlib.pyplot as plt\n",
    "import os \n",
    "import librosa\n",
    "from sklearn import preprocessing\n",
    "from sklearn.svm import SVC\n",
    "import pickle\n",
    "\n"
   ]
  },
  {
   "cell_type": "code",
   "execution_count": 2,
   "metadata": {},
   "outputs": [],
   "source": [
    "zcr = [] #zero crossing rate\n",
    "\n",
    "mean_spectral_centroids = [] # moyenne du Spectral centroid\n",
    "\n",
    "rolloff_point = [] #calcul du spectral rolloff point\n",
    "\n",
    "mfcc = [ [] for _ in range(20) ] #liste qui contiendra les listes de mfcc (mfcc1, mfcc2,...)\n",
    "\n"
   ]
  },
  {
   "cell_type": "code",
   "execution_count": 3,
   "metadata": {},
   "outputs": [],
   "source": [
    "def calcul_features_saving_csv(path_files, path_saved_features): #paths have to be string and without 'csv'\n",
    "    directory = path_files\n",
    "    zcr = [] #zero crossing rate\n",
    "    mean_spectral_centroids = [] # moyenne du Spectral centroid\n",
    "    rolloff_point = [] #calcul du spectral rolloff point\n",
    "    mfcc = [ [] for _ in range(20) ] #liste qui contiendra les listes de mfcc (mfcc1, mfcc2,...)\n",
    "\n",
    "    #adding filename in a list    \n",
    "    filesnames = []\n",
    "\n",
    "    for filename in os.listdir(directory):\n",
    "        sound_file = os.path.join(directory, filename)\n",
    "        # checking if it is a file\n",
    "        if os.path.isfile(sound_file):\n",
    "            filesnames.append(sound_file)\n",
    "\n",
    "    # iterate over files in that directory\n",
    "    for filename in filesnames:\n",
    "        #loading the audio\n",
    "        audio = librosa.load(filename)[0]\n",
    "\n",
    "        # Calcul du ZCR\n",
    "        zcr0 = librosa.zero_crossings(audio)\n",
    "        zcr.append(sum(zcr0))\n",
    "\n",
    "        # Calcul de la moyenne du Spectral centroid\n",
    "        spectral_centroids = librosa.feature.spectral_centroid(audio)[0]\n",
    "        mean_spectral_centroids.append(np.mean(spectral_centroids))\n",
    "\n",
    "        # Calcul du spectral rolloff point\n",
    "\n",
    "        rolloff = librosa.feature.spectral_rolloff(audio)\n",
    "        rolloff_point.append(np.mean(rolloff))\n",
    "\n",
    "        # Calcul des moyennes des MFCC\n",
    "\n",
    "        mfcc0 = librosa.feature.mfcc(audio) #liste de 20 liste (mfcc1, mfcc2, ...)\n",
    "\n",
    "        for i in range(len(mfcc0)):\n",
    "            mfcc[i].append(np.mean(mfcc0[i]))\n",
    "\n",
    "    #checking if there is no error of list size\n",
    "    n = len(filesnames)\n",
    "\n",
    "    assert len(zcr) == n\n",
    "    assert len(rolloff_point) == n\n",
    "    assert len(mean_spectral_centroids) == n\n",
    "\n",
    "    for i in range(len(mfcc)):\n",
    "        assert len(mfcc[i]) == n\n",
    "\n",
    "    #preparing dictionnary to create the dataframe\n",
    "    dico1 = {'Filesnames' : filesnames,\n",
    "    'zcr': zcr,\n",
    "    'spectral_c':mean_spectral_centroids,\n",
    "    'rolloff': rolloff_point\n",
    "    }\n",
    "    dico2 = {\n",
    "        'mfcc' + str(i): mfcc[i-1] for i in range(1,21)\n",
    "    }\n",
    "\n",
    "    data_features_dico = dico1 | dico2\n",
    "\n",
    "    data_features_df = DataFrame(data_features_dico, columns= ['Filesnames', 'zcr', 'spectral_c', 'rolloff', 'mfcc1', 'mfcc2', 'mfcc3',\n",
    "                'mfcc4', 'mfcc5', 'mfcc6', 'mfcc7', 'mfcc8', 'mfcc9',\n",
    "                'mfcc10', 'mfcc11', 'mfcc12', 'mfcc13', 'mfcc14', 'mfcc15',\n",
    "                'mfcc16', 'mfcc17', 'mfcc18', 'mfcc19', 'mfcc20'])\n",
    "\n",
    "    export_csv_features = data_features_df.to_csv (path_saved_features + '.csv' , index = None, header=True, encoding='utf-8')\n",
    "\n",
    "    #labelisation of the dataset\n",
    "    labels = []\n",
    "    for audio in filesnames:\n",
    "        if audio[len(directory)+1:len(directory)+6] == 'Autre':\n",
    "            labels.append(-1)\n",
    "        else:\n",
    "            labels.append(1)\n",
    "\n",
    "    #adding the column of the labels in the dataframe\n",
    "    data_features_df_labels = data_features_df.assign(Labels = labels) \n",
    "\n",
    "    #saving csv with labels\n",
    "    path_csv_saved_labels = path_saved_features + '_labels.csv'\n",
    "    export_csv_features_labels = data_features_df_labels.to_csv (path_csv_saved_labels, index = None, header=True, encoding='utf-8')  \n",
    "    \n",
    "    \n",
    "\n",
    "            "
   ]
  },
  {
   "cell_type": "code",
   "execution_count": 4,
   "metadata": {},
   "outputs": [],
   "source": [
    "%%capture\n",
    "\n",
    "calcul_features_saving_csv('Dataset_final/Dataset/Test', 'features_dataset_test')"
   ]
  },
  {
   "cell_type": "code",
   "execution_count": 5,
   "metadata": {},
   "outputs": [],
   "source": [
    "%%capture\n",
    "\n",
    "calcul_features_saving_csv('Dataset_final/Dataset/Validation', 'features_dataset_valid')\n"
   ]
  },
  {
   "cell_type": "code",
   "execution_count": 6,
   "metadata": {},
   "outputs": [],
   "source": [
    "%%capture\n",
    "\n",
    "calcul_features_saving_csv('Dataset_final/Dataset/Training', 'features_dataset_train')"
   ]
  },
  {
   "cell_type": "code",
   "execution_count": 16,
   "metadata": {},
   "outputs": [],
   "source": [
    "directory = 'Dataset/Test'"
   ]
  },
  {
   "cell_type": "code",
   "execution_count": 7,
   "metadata": {},
   "outputs": [],
   "source": [
    "X_valid_labels= pd.read_csv('Features/features_dataset_valid_labels.csv')"
   ]
  },
  {
   "cell_type": "code",
   "execution_count": 8,
   "metadata": {},
   "outputs": [
    {
     "data": {
      "text/html": [
       "<div>\n",
       "<style scoped>\n",
       "    .dataframe tbody tr th:only-of-type {\n",
       "        vertical-align: middle;\n",
       "    }\n",
       "\n",
       "    .dataframe tbody tr th {\n",
       "        vertical-align: top;\n",
       "    }\n",
       "\n",
       "    .dataframe thead th {\n",
       "        text-align: right;\n",
       "    }\n",
       "</style>\n",
       "<table border=\"1\" class=\"dataframe\">\n",
       "  <thead>\n",
       "    <tr style=\"text-align: right;\">\n",
       "      <th></th>\n",
       "      <th>Filesnames</th>\n",
       "      <th>zcr</th>\n",
       "      <th>spectral_c</th>\n",
       "      <th>rolloff</th>\n",
       "      <th>mfcc1</th>\n",
       "      <th>mfcc2</th>\n",
       "      <th>mfcc3</th>\n",
       "      <th>mfcc4</th>\n",
       "      <th>mfcc5</th>\n",
       "      <th>mfcc6</th>\n",
       "      <th>...</th>\n",
       "      <th>mfcc12</th>\n",
       "      <th>mfcc13</th>\n",
       "      <th>mfcc14</th>\n",
       "      <th>mfcc15</th>\n",
       "      <th>mfcc16</th>\n",
       "      <th>mfcc17</th>\n",
       "      <th>mfcc18</th>\n",
       "      <th>mfcc19</th>\n",
       "      <th>mfcc20</th>\n",
       "      <th>Labels</th>\n",
       "    </tr>\n",
       "  </thead>\n",
       "  <tbody>\n",
       "    <tr>\n",
       "      <th>0</th>\n",
       "      <td>Dataset_final/Dataset/Validation\\Autre135528-6...</td>\n",
       "      <td>8743</td>\n",
       "      <td>1954.059333</td>\n",
       "      <td>3858.986492</td>\n",
       "      <td>-21.642727</td>\n",
       "      <td>135.808610</td>\n",
       "      <td>-43.094524</td>\n",
       "      <td>11.316405</td>\n",
       "      <td>-17.153734</td>\n",
       "      <td>2.371192</td>\n",
       "      <td>...</td>\n",
       "      <td>0.395339</td>\n",
       "      <td>-6.268300</td>\n",
       "      <td>2.688388</td>\n",
       "      <td>-6.211486</td>\n",
       "      <td>4.565666</td>\n",
       "      <td>-4.887476</td>\n",
       "      <td>3.953548</td>\n",
       "      <td>-3.375121</td>\n",
       "      <td>3.270066</td>\n",
       "      <td>-1</td>\n",
       "    </tr>\n",
       "    <tr>\n",
       "      <th>1</th>\n",
       "      <td>Dataset_final/Dataset/Validation\\Autre135528-6...</td>\n",
       "      <td>7808</td>\n",
       "      <td>1702.889270</td>\n",
       "      <td>3294.019966</td>\n",
       "      <td>-36.055565</td>\n",
       "      <td>152.098500</td>\n",
       "      <td>-45.504757</td>\n",
       "      <td>14.446933</td>\n",
       "      <td>-16.327753</td>\n",
       "      <td>0.975379</td>\n",
       "      <td>...</td>\n",
       "      <td>-1.433877</td>\n",
       "      <td>-6.805769</td>\n",
       "      <td>2.337900</td>\n",
       "      <td>-5.966326</td>\n",
       "      <td>3.157627</td>\n",
       "      <td>-4.165167</td>\n",
       "      <td>3.634532</td>\n",
       "      <td>-2.319589</td>\n",
       "      <td>2.493556</td>\n",
       "      <td>-1</td>\n",
       "    </tr>\n",
       "    <tr>\n",
       "      <th>2</th>\n",
       "      <td>Dataset_final/Dataset/Validation\\Autre135528-6...</td>\n",
       "      <td>7081</td>\n",
       "      <td>1545.873129</td>\n",
       "      <td>2966.976664</td>\n",
       "      <td>-41.600513</td>\n",
       "      <td>163.645570</td>\n",
       "      <td>-42.356400</td>\n",
       "      <td>19.108795</td>\n",
       "      <td>-11.703563</td>\n",
       "      <td>1.257879</td>\n",
       "      <td>...</td>\n",
       "      <td>-0.773502</td>\n",
       "      <td>-7.309393</td>\n",
       "      <td>3.617532</td>\n",
       "      <td>-7.154311</td>\n",
       "      <td>3.949638</td>\n",
       "      <td>-4.241490</td>\n",
       "      <td>3.382845</td>\n",
       "      <td>-2.738063</td>\n",
       "      <td>2.376667</td>\n",
       "      <td>-1</td>\n",
       "    </tr>\n",
       "    <tr>\n",
       "      <th>3</th>\n",
       "      <td>Dataset_final/Dataset/Validation\\Autre171243-9...</td>\n",
       "      <td>8859</td>\n",
       "      <td>1752.472867</td>\n",
       "      <td>3126.919820</td>\n",
       "      <td>-189.714000</td>\n",
       "      <td>119.825920</td>\n",
       "      <td>-55.326840</td>\n",
       "      <td>5.021244</td>\n",
       "      <td>-17.992582</td>\n",
       "      <td>-18.832773</td>\n",
       "      <td>...</td>\n",
       "      <td>-6.842721</td>\n",
       "      <td>-28.360842</td>\n",
       "      <td>-0.519841</td>\n",
       "      <td>-7.703750</td>\n",
       "      <td>-11.396275</td>\n",
       "      <td>-11.501338</td>\n",
       "      <td>0.179874</td>\n",
       "      <td>-15.424678</td>\n",
       "      <td>-2.709641</td>\n",
       "      <td>-1</td>\n",
       "    </tr>\n",
       "    <tr>\n",
       "      <th>4</th>\n",
       "      <td>Dataset_final/Dataset/Validation\\Autre171243-9...</td>\n",
       "      <td>9015</td>\n",
       "      <td>1729.803937</td>\n",
       "      <td>3009.669662</td>\n",
       "      <td>-226.892230</td>\n",
       "      <td>123.433685</td>\n",
       "      <td>-55.311100</td>\n",
       "      <td>7.889878</td>\n",
       "      <td>-14.180949</td>\n",
       "      <td>-18.592335</td>\n",
       "      <td>...</td>\n",
       "      <td>0.733204</td>\n",
       "      <td>-26.064741</td>\n",
       "      <td>-4.255068</td>\n",
       "      <td>-15.168889</td>\n",
       "      <td>-14.036809</td>\n",
       "      <td>-13.703525</td>\n",
       "      <td>-1.877064</td>\n",
       "      <td>-14.831892</td>\n",
       "      <td>2.414587</td>\n",
       "      <td>-1</td>\n",
       "    </tr>\n",
       "    <tr>\n",
       "      <th>...</th>\n",
       "      <td>...</td>\n",
       "      <td>...</td>\n",
       "      <td>...</td>\n",
       "      <td>...</td>\n",
       "      <td>...</td>\n",
       "      <td>...</td>\n",
       "      <td>...</td>\n",
       "      <td>...</td>\n",
       "      <td>...</td>\n",
       "      <td>...</td>\n",
       "      <td>...</td>\n",
       "      <td>...</td>\n",
       "      <td>...</td>\n",
       "      <td>...</td>\n",
       "      <td>...</td>\n",
       "      <td>...</td>\n",
       "      <td>...</td>\n",
       "      <td>...</td>\n",
       "      <td>...</td>\n",
       "      <td>...</td>\n",
       "      <td>...</td>\n",
       "    </tr>\n",
       "    <tr>\n",
       "      <th>1427</th>\n",
       "      <td>Dataset_final/Dataset/Validation\\Feu4_65_5.wav</td>\n",
       "      <td>15215</td>\n",
       "      <td>4051.539457</td>\n",
       "      <td>8398.509331</td>\n",
       "      <td>-77.854690</td>\n",
       "      <td>41.596703</td>\n",
       "      <td>55.158886</td>\n",
       "      <td>30.265280</td>\n",
       "      <td>11.648693</td>\n",
       "      <td>29.219263</td>\n",
       "      <td>...</td>\n",
       "      <td>8.442637</td>\n",
       "      <td>-7.067865</td>\n",
       "      <td>5.243075</td>\n",
       "      <td>-8.589261</td>\n",
       "      <td>5.124330</td>\n",
       "      <td>-7.729333</td>\n",
       "      <td>5.993276</td>\n",
       "      <td>-7.587524</td>\n",
       "      <td>3.996865</td>\n",
       "      <td>1</td>\n",
       "    </tr>\n",
       "    <tr>\n",
       "      <th>1428</th>\n",
       "      <td>Dataset_final/Dataset/Validation\\Feu4_65_6.wav</td>\n",
       "      <td>12742</td>\n",
       "      <td>3790.270307</td>\n",
       "      <td>8267.069663</td>\n",
       "      <td>-79.084120</td>\n",
       "      <td>43.425793</td>\n",
       "      <td>55.573270</td>\n",
       "      <td>31.740246</td>\n",
       "      <td>12.879070</td>\n",
       "      <td>30.038408</td>\n",
       "      <td>...</td>\n",
       "      <td>9.611042</td>\n",
       "      <td>-6.599461</td>\n",
       "      <td>6.046331</td>\n",
       "      <td>-7.701636</td>\n",
       "      <td>5.314174</td>\n",
       "      <td>-6.928343</td>\n",
       "      <td>6.364771</td>\n",
       "      <td>-6.826028</td>\n",
       "      <td>4.520959</td>\n",
       "      <td>1</td>\n",
       "    </tr>\n",
       "    <tr>\n",
       "      <th>1429</th>\n",
       "      <td>Dataset_final/Dataset/Validation\\Feu4_65_7.wav</td>\n",
       "      <td>13846</td>\n",
       "      <td>3885.158689</td>\n",
       "      <td>8330.051171</td>\n",
       "      <td>-76.990060</td>\n",
       "      <td>42.683380</td>\n",
       "      <td>54.912630</td>\n",
       "      <td>31.638744</td>\n",
       "      <td>13.024987</td>\n",
       "      <td>29.928236</td>\n",
       "      <td>...</td>\n",
       "      <td>8.347178</td>\n",
       "      <td>-7.056386</td>\n",
       "      <td>5.904650</td>\n",
       "      <td>-8.142796</td>\n",
       "      <td>5.119280</td>\n",
       "      <td>-7.781681</td>\n",
       "      <td>5.739549</td>\n",
       "      <td>-7.826714</td>\n",
       "      <td>4.087548</td>\n",
       "      <td>1</td>\n",
       "    </tr>\n",
       "    <tr>\n",
       "      <th>1430</th>\n",
       "      <td>Dataset_final/Dataset/Validation\\Feu4_65_8.wav</td>\n",
       "      <td>13807</td>\n",
       "      <td>3868.309646</td>\n",
       "      <td>8306.526458</td>\n",
       "      <td>-74.162620</td>\n",
       "      <td>43.046050</td>\n",
       "      <td>53.495450</td>\n",
       "      <td>31.642584</td>\n",
       "      <td>12.598216</td>\n",
       "      <td>29.566390</td>\n",
       "      <td>...</td>\n",
       "      <td>7.948853</td>\n",
       "      <td>-7.152982</td>\n",
       "      <td>6.141828</td>\n",
       "      <td>-7.769194</td>\n",
       "      <td>5.509543</td>\n",
       "      <td>-7.960123</td>\n",
       "      <td>5.757324</td>\n",
       "      <td>-7.647759</td>\n",
       "      <td>4.025075</td>\n",
       "      <td>1</td>\n",
       "    </tr>\n",
       "    <tr>\n",
       "      <th>1431</th>\n",
       "      <td>Dataset_final/Dataset/Validation\\Feu4_65_9.wav</td>\n",
       "      <td>14079</td>\n",
       "      <td>3886.595618</td>\n",
       "      <td>8315.239314</td>\n",
       "      <td>-86.191500</td>\n",
       "      <td>42.167698</td>\n",
       "      <td>54.680332</td>\n",
       "      <td>31.134918</td>\n",
       "      <td>12.945857</td>\n",
       "      <td>30.397984</td>\n",
       "      <td>...</td>\n",
       "      <td>8.830372</td>\n",
       "      <td>-6.319992</td>\n",
       "      <td>6.005212</td>\n",
       "      <td>-8.249381</td>\n",
       "      <td>5.310506</td>\n",
       "      <td>-7.511660</td>\n",
       "      <td>6.151624</td>\n",
       "      <td>-6.991538</td>\n",
       "      <td>4.456071</td>\n",
       "      <td>1</td>\n",
       "    </tr>\n",
       "  </tbody>\n",
       "</table>\n",
       "<p>1432 rows × 25 columns</p>\n",
       "</div>"
      ],
      "text/plain": [
       "                                             Filesnames    zcr   spectral_c  \\\n",
       "0     Dataset_final/Dataset/Validation\\Autre135528-6...   8743  1954.059333   \n",
       "1     Dataset_final/Dataset/Validation\\Autre135528-6...   7808  1702.889270   \n",
       "2     Dataset_final/Dataset/Validation\\Autre135528-6...   7081  1545.873129   \n",
       "3     Dataset_final/Dataset/Validation\\Autre171243-9...   8859  1752.472867   \n",
       "4     Dataset_final/Dataset/Validation\\Autre171243-9...   9015  1729.803937   \n",
       "...                                                 ...    ...          ...   \n",
       "1427     Dataset_final/Dataset/Validation\\Feu4_65_5.wav  15215  4051.539457   \n",
       "1428     Dataset_final/Dataset/Validation\\Feu4_65_6.wav  12742  3790.270307   \n",
       "1429     Dataset_final/Dataset/Validation\\Feu4_65_7.wav  13846  3885.158689   \n",
       "1430     Dataset_final/Dataset/Validation\\Feu4_65_8.wav  13807  3868.309646   \n",
       "1431     Dataset_final/Dataset/Validation\\Feu4_65_9.wav  14079  3886.595618   \n",
       "\n",
       "          rolloff       mfcc1       mfcc2      mfcc3      mfcc4      mfcc5  \\\n",
       "0     3858.986492  -21.642727  135.808610 -43.094524  11.316405 -17.153734   \n",
       "1     3294.019966  -36.055565  152.098500 -45.504757  14.446933 -16.327753   \n",
       "2     2966.976664  -41.600513  163.645570 -42.356400  19.108795 -11.703563   \n",
       "3     3126.919820 -189.714000  119.825920 -55.326840   5.021244 -17.992582   \n",
       "4     3009.669662 -226.892230  123.433685 -55.311100   7.889878 -14.180949   \n",
       "...           ...         ...         ...        ...        ...        ...   \n",
       "1427  8398.509331  -77.854690   41.596703  55.158886  30.265280  11.648693   \n",
       "1428  8267.069663  -79.084120   43.425793  55.573270  31.740246  12.879070   \n",
       "1429  8330.051171  -76.990060   42.683380  54.912630  31.638744  13.024987   \n",
       "1430  8306.526458  -74.162620   43.046050  53.495450  31.642584  12.598216   \n",
       "1431  8315.239314  -86.191500   42.167698  54.680332  31.134918  12.945857   \n",
       "\n",
       "          mfcc6  ...    mfcc12     mfcc13    mfcc14     mfcc15     mfcc16  \\\n",
       "0      2.371192  ...  0.395339  -6.268300  2.688388  -6.211486   4.565666   \n",
       "1      0.975379  ... -1.433877  -6.805769  2.337900  -5.966326   3.157627   \n",
       "2      1.257879  ... -0.773502  -7.309393  3.617532  -7.154311   3.949638   \n",
       "3    -18.832773  ... -6.842721 -28.360842 -0.519841  -7.703750 -11.396275   \n",
       "4    -18.592335  ...  0.733204 -26.064741 -4.255068 -15.168889 -14.036809   \n",
       "...         ...  ...       ...        ...       ...        ...        ...   \n",
       "1427  29.219263  ...  8.442637  -7.067865  5.243075  -8.589261   5.124330   \n",
       "1428  30.038408  ...  9.611042  -6.599461  6.046331  -7.701636   5.314174   \n",
       "1429  29.928236  ...  8.347178  -7.056386  5.904650  -8.142796   5.119280   \n",
       "1430  29.566390  ...  7.948853  -7.152982  6.141828  -7.769194   5.509543   \n",
       "1431  30.397984  ...  8.830372  -6.319992  6.005212  -8.249381   5.310506   \n",
       "\n",
       "         mfcc17    mfcc18     mfcc19    mfcc20  Labels  \n",
       "0     -4.887476  3.953548  -3.375121  3.270066      -1  \n",
       "1     -4.165167  3.634532  -2.319589  2.493556      -1  \n",
       "2     -4.241490  3.382845  -2.738063  2.376667      -1  \n",
       "3    -11.501338  0.179874 -15.424678 -2.709641      -1  \n",
       "4    -13.703525 -1.877064 -14.831892  2.414587      -1  \n",
       "...         ...       ...        ...       ...     ...  \n",
       "1427  -7.729333  5.993276  -7.587524  3.996865       1  \n",
       "1428  -6.928343  6.364771  -6.826028  4.520959       1  \n",
       "1429  -7.781681  5.739549  -7.826714  4.087548       1  \n",
       "1430  -7.960123  5.757324  -7.647759  4.025075       1  \n",
       "1431  -7.511660  6.151624  -6.991538  4.456071       1  \n",
       "\n",
       "[1432 rows x 25 columns]"
      ]
     },
     "execution_count": 8,
     "metadata": {},
     "output_type": "execute_result"
    }
   ],
   "source": [
    "X_valid_labels"
   ]
  },
  {
   "cell_type": "markdown",
   "metadata": {},
   "source": [
    "Construction de la matrice de corrélation"
   ]
  },
  {
   "cell_type": "code",
   "execution_count": 9,
   "metadata": {},
   "outputs": [],
   "source": [
    "df = pd.read_csv('Features/features_dataset_train.csv').iloc[:,1:25]"
   ]
  },
  {
   "cell_type": "code",
   "execution_count": 11,
   "metadata": {},
   "outputs": [
    {
     "data": {
      "text/plain": [
       "Text(0.5, -0.15, 'Matrice de corrélation')"
      ]
     },
     "execution_count": 11,
     "metadata": {},
     "output_type": "execute_result"
    },
    {
     "data": {
      "image/png": "[encoded data removed]",
      "text/plain": [
       "<Figure size 864x864 with 2 Axes>"
      ]
     },
     "metadata": {
      "needs_background": "light"
     },
     "output_type": "display_data"
    }
   ],
   "source": [
    "f = plt.figure(figsize=(12, 12))\n",
    "\n",
    "plt.matshow(df.corr(), fignum=f.number)\n",
    "plt.xticks(range(df.shape[1]), df.columns, fontsize=14, rotation=45)\n",
    "plt.yticks(range(df.shape[1]), df.columns, fontsize=14)\n",
    "\n",
    "cb = plt.colorbar()\n",
    "cb.ax.tick_params(labelsize=14)\n",
    "plt.title('Matrice de corrélation', fontsize=16, y=-0.15)"
   ]
  },
  {
   "cell_type": "code",
   "execution_count": 12,
   "metadata": {},
   "outputs": [
    {
     "data": {
      "text/plain": [
       "zcr           4.282426e+07\n",
       "spectral_c    1.009943e+06\n",
       "rolloff       4.744923e+06\n",
       "mfcc1         1.082063e+04\n",
       "mfcc2         2.076277e+03\n",
       "mfcc3         1.212362e+03\n",
       "mfcc4         3.531603e+02\n",
       "mfcc5         2.327527e+02\n",
       "mfcc6         1.578168e+02\n",
       "mfcc7         7.551537e+01\n",
       "mfcc8         8.173334e+01\n",
       "mfcc9         4.997135e+01\n",
       "mfcc10        3.466494e+01\n",
       "mfcc11        3.184143e+01\n",
       "mfcc12        3.745974e+01\n",
       "mfcc13        2.919921e+01\n",
       "mfcc14        2.761190e+01\n",
       "mfcc15        2.399438e+01\n",
       "mfcc16        2.557381e+01\n",
       "mfcc17        2.394043e+01\n",
       "mfcc18        1.832606e+01\n",
       "mfcc19        1.394263e+01\n",
       "mfcc20        1.988396e+01\n",
       "dtype: float64"
      ]
     },
     "execution_count": 12,
     "metadata": {},
     "output_type": "execute_result"
    }
   ],
   "source": [
    "df.var()"
   ]
  },
  {
   "cell_type": "markdown",
   "metadata": {},
   "source": [
    "Création de SVM utilisant différentes features"
   ]
  },
  {
   "cell_type": "code",
   "execution_count": 43,
   "metadata": {},
   "outputs": [],
   "source": [
    "def create_SVM_classifier(features, L_result, kernel_ = \"linear\"):\n",
    "    X_train_full = pd.read_csv('Features/features_dataset_train.csv').iloc[:,1:25]\n",
    "    X_train = X_train_full.loc[:, features] \n",
    "    Y_train = pd.read_csv('Features/features_dataset_train_labels.csv').iloc[:,24]\n",
    "\n",
    "    X_test_full = pd.read_csv('Features/features_dataset_test.csv').iloc[:,1:25]\n",
    "    X_test = X_test_full.loc[:, features] \n",
    "    Y_test = pd.read_csv('Features/features_dataset_test_labels.csv').iloc[:,24]\n",
    "    \n",
    "    X_val_full = pd.read_csv('Features/features_dataset_valid.csv').iloc[:,1:25]\n",
    "    X_val = X_val_full.loc[:, features] \n",
    "    Y_val = pd.read_csv('Features/features_dataset_valid_labels.csv').iloc[:,24]\n",
    "    #creation SVM\n",
    "    classifier = SVC(kernel = kernel_)\n",
    "    classifier.fit(X_train, Y_train)\n",
    "    #Prediction sur le Test set\n",
    "    #y_pred = classifier.predict(X_test)\n",
    "    perfo_train = classifier.score(X_train, Y_train)\n",
    "    perfo_test = classifier.score(X_test, Y_test)\n",
    "    perfo_val = classifier.score(X_val, Y_val)\n",
    "    \n",
    "    print('precision sur data train: ', perfo_train)\n",
    "    print('precision sur data test: ', perfo_test)\n",
    "    print('precision sur data valid: ', perfo_val)\n",
    "\n",
    "    L_result.append(perfo_train)\n",
    "    L_result.append(perfo_test)\n",
    "    L_result.append(perfo_val)\n",
    "\n",
    "    print(features)\n",
    "    return classifier\n",
    "    "
   ]
  },
  {
   "cell_type": "code",
   "execution_count": 59,
   "metadata": {},
   "outputs": [],
   "source": [
    "features_1 = ['zcr']\n",
    "features_2 = ['zcr', 'rolloff', 'mfcc2', 'mfcc12']\n",
    "features_3 = ['rolloff', 'mfcc2' ]\n",
    "features_4 = ['zcr', 'spectral_c']\n",
    "features_5 = ['mfcc'+str(i) for i in range(1,20,3)]\n",
    "features_6 = ['mfcc2']"
   ]
  },
  {
   "cell_type": "code",
   "execution_count": 50,
   "metadata": {},
   "outputs": [],
   "source": [
    "result_1 = []\n",
    "result_2 = []\n",
    "result_3 = []\n",
    "result_4 = []\n",
    "result_5 = []\n",
    "result_6 = []"
   ]
  },
  {
   "cell_type": "code",
   "execution_count": 51,
   "metadata": {},
   "outputs": [
    {
     "name": "stdout",
     "output_type": "stream",
     "text": [
      "precision sur data train:  0.6622195269860521\n",
      "precision sur data test:  0.6296875\n",
      "precision sur data valid:  0.6543296089385475\n",
      "['zcr']\n"
     ]
    }
   ],
   "source": [
    "SVM_1 = create_SVM_classifier(features_1, result_1,'rbf')"
   ]
  },
  {
   "cell_type": "code",
   "execution_count": 52,
   "metadata": {},
   "outputs": [
    {
     "name": "stdout",
     "output_type": "stream",
     "text": [
      "precision sur data train:  0.936931473620376\n",
      "precision sur data test:  0.965625\n",
      "precision sur data valid:  0.9532122905027933\n",
      "['zcr', 'rolloff', 'mfcc2', 'mfcc12']\n"
     ]
    }
   ],
   "source": [
    "SVM_2 = create_SVM_classifier(features_2, result_2,'rbf')"
   ]
  },
  {
   "cell_type": "code",
   "execution_count": 53,
   "metadata": {},
   "outputs": [
    {
     "name": "stdout",
     "output_type": "stream",
     "text": [
      "precision sur data train:  0.8122094198504144\n",
      "precision sur data test:  0.834375\n",
      "precision sur data valid:  0.8233240223463687\n",
      "['rolloff', 'mfcc2']\n"
     ]
    },
    {
     "data": {
      "text/html": [
       "<style>#sk-container-id-8 {color: black;background-color: white;}#sk-container-id-8 pre{padding: 0;}#sk-container-id-8 div.sk-toggleable {background-color: white;}#sk-container-id-8 label.sk-toggleable__label {cursor: pointer;display: block;width: 100%;margin-bottom: 0;padding: 0.3em;box-sizing: border-box;text-align: center;}#sk-container-id-8 label.sk-toggleable__label-arrow:before {content: \"▸\";float: left;margin-right: 0.25em;color: #696969;}#sk-container-id-8 label.sk-toggleable__label-arrow:hover:before {color: black;}#sk-container-id-8 div.sk-estimator:hover label.sk-toggleable__label-arrow:before {color: black;}#sk-container-id-8 div.sk-toggleable__content {max-height: 0;max-width: 0;overflow: hidden;text-align: left;background-color: #f0f8ff;}#sk-container-id-8 div.sk-toggleable__content pre {margin: 0.2em;color: black;border-radius: 0.25em;background-color: #f0f8ff;}#sk-container-id-8 input.sk-toggleable__control:checked~div.sk-toggleable__content {max-height: 200px;max-width: 100%;overflow: auto;}#sk-container-id-8 input.sk-toggleable__control:checked~label.sk-toggleable__label-arrow:before {content: \"▾\";}#sk-container-id-8 div.sk-estimator input.sk-toggleable__control:checked~label.sk-toggleable__label {background-color: #d4ebff;}#sk-container-id-8 div.sk-label input.sk-toggleable__control:checked~label.sk-toggleable__label {background-color: #d4ebff;}#sk-container-id-8 input.sk-hidden--visually {border: 0;clip: rect(1px 1px 1px 1px);clip: rect(1px, 1px, 1px, 1px);height: 1px;margin: -1px;overflow: hidden;padding: 0;position: absolute;width: 1px;}#sk-container-id-8 div.sk-estimator {font-family: monospace;background-color: #f0f8ff;border: 1px dotted black;border-radius: 0.25em;box-sizing: border-box;margin-bottom: 0.5em;}#sk-container-id-8 div.sk-estimator:hover {background-color: #d4ebff;}#sk-container-id-8 div.sk-parallel-item::after {content: \"\";width: 100%;border-bottom: 1px solid gray;flex-grow: 1;}#sk-container-id-8 div.sk-label:hover label.sk-toggleable__label {background-color: #d4ebff;}#sk-container-id-8 div.sk-serial::before {content: \"\";position: absolute;border-left: 1px solid gray;box-sizing: border-box;top: 0;bottom: 0;left: 50%;z-index: 0;}#sk-container-id-8 div.sk-serial {display: flex;flex-direction: column;align-items: center;background-color: white;padding-right: 0.2em;padding-left: 0.2em;position: relative;}#sk-container-id-8 div.sk-item {position: relative;z-index: 1;}#sk-container-id-8 div.sk-parallel {display: flex;align-items: stretch;justify-content: center;background-color: white;position: relative;}#sk-container-id-8 div.sk-item::before, #sk-container-id-8 div.sk-parallel-item::before {content: \"\";position: absolute;border-left: 1px solid gray;box-sizing: border-box;top: 0;bottom: 0;left: 50%;z-index: -1;}#sk-container-id-8 div.sk-parallel-item {display: flex;flex-direction: column;z-index: 1;position: relative;background-color: white;}#sk-container-id-8 div.sk-parallel-item:first-child::after {align-self: flex-end;width: 50%;}#sk-container-id-8 div.sk-parallel-item:last-child::after {align-self: flex-start;width: 50%;}#sk-container-id-8 div.sk-parallel-item:only-child::after {width: 0;}#sk-container-id-8 div.sk-dashed-wrapped {border: 1px dashed gray;margin: 0 0.4em 0.5em 0.4em;box-sizing: border-box;padding-bottom: 0.4em;background-color: white;}#sk-container-id-8 div.sk-label label {font-family: monospace;font-weight: bold;display: inline-block;line-height: 1.2em;}#sk-container-id-8 div.sk-label-container {text-align: center;}#sk-container-id-8 div.sk-container {/* jupyter's `normalize.less` sets `[hidden] { display: none; }` but bootstrap.min.css set `[hidden] { display: none !important; }` so we also need the `!important` here to be able to override the default hidden behavior on the sphinx rendered scikit-learn.org. See: https://github.com/scikit-learn/scikit-learn/issues/21755 */display: inline-block !important;position: relative;}#sk-container-id-8 div.sk-text-repr-fallback {display: none;}</style><div id=\"sk-container-id-8\" class=\"sk-top-container\"><div class=\"sk-text-repr-fallback\"><pre>SVC()</pre><b>In a Jupyter environment, please rerun this cell to show the HTML representation or trust the notebook. <br />On GitHub, the HTML representation is unable to render, please try loading this page with nbviewer.org.</b></div><div class=\"sk-container\" hidden><div class=\"sk-item\"><div class=\"sk-estimator sk-toggleable\"><input class=\"sk-toggleable__control sk-hidden--visually\" id=\"sk-estimator-id-8\" type=\"checkbox\" checked><label for=\"sk-estimator-id-8\" class=\"sk-toggleable__label sk-toggleable__label-arrow\">SVC</label><div class=\"sk-toggleable__content\"><pre>SVC()</pre></div></div></div></div></div>"
      ],
      "text/plain": [
       "SVC()"
      ]
     },
     "execution_count": 53,
     "metadata": {},
     "output_type": "execute_result"
    }
   ],
   "source": [
    "create_SVM_classifier(features_3, result_3, 'rbf')"
   ]
  },
  {
   "cell_type": "code",
   "execution_count": 54,
   "metadata": {},
   "outputs": [
    {
     "name": "stdout",
     "output_type": "stream",
     "text": [
      "precision sur data train:  0.939963614311704\n",
      "precision sur data test:  0.96875\n",
      "precision sur data valid:  0.9720670391061452\n",
      "['zcr', 'spectral_c']\n"
     ]
    },
    {
     "data": {
      "text/html": [
       "<style>#sk-container-id-9 {color: black;background-color: white;}#sk-container-id-9 pre{padding: 0;}#sk-container-id-9 div.sk-toggleable {background-color: white;}#sk-container-id-9 label.sk-toggleable__label {cursor: pointer;display: block;width: 100%;margin-bottom: 0;padding: 0.3em;box-sizing: border-box;text-align: center;}#sk-container-id-9 label.sk-toggleable__label-arrow:before {content: \"▸\";float: left;margin-right: 0.25em;color: #696969;}#sk-container-id-9 label.sk-toggleable__label-arrow:hover:before {color: black;}#sk-container-id-9 div.sk-estimator:hover label.sk-toggleable__label-arrow:before {color: black;}#sk-container-id-9 div.sk-toggleable__content {max-height: 0;max-width: 0;overflow: hidden;text-align: left;background-color: #f0f8ff;}#sk-container-id-9 div.sk-toggleable__content pre {margin: 0.2em;color: black;border-radius: 0.25em;background-color: #f0f8ff;}#sk-container-id-9 input.sk-toggleable__control:checked~div.sk-toggleable__content {max-height: 200px;max-width: 100%;overflow: auto;}#sk-container-id-9 input.sk-toggleable__control:checked~label.sk-toggleable__label-arrow:before {content: \"▾\";}#sk-container-id-9 div.sk-estimator input.sk-toggleable__control:checked~label.sk-toggleable__label {background-color: #d4ebff;}#sk-container-id-9 div.sk-label input.sk-toggleable__control:checked~label.sk-toggleable__label {background-color: #d4ebff;}#sk-container-id-9 input.sk-hidden--visually {border: 0;clip: rect(1px 1px 1px 1px);clip: rect(1px, 1px, 1px, 1px);height: 1px;margin: -1px;overflow: hidden;padding: 0;position: absolute;width: 1px;}#sk-container-id-9 div.sk-estimator {font-family: monospace;background-color: #f0f8ff;border: 1px dotted black;border-radius: 0.25em;box-sizing: border-box;margin-bottom: 0.5em;}#sk-container-id-9 div.sk-estimator:hover {background-color: #d4ebff;}#sk-container-id-9 div.sk-parallel-item::after {content: \"\";width: 100%;border-bottom: 1px solid gray;flex-grow: 1;}#sk-container-id-9 div.sk-label:hover label.sk-toggleable__label {background-color: #d4ebff;}#sk-container-id-9 div.sk-serial::before {content: \"\";position: absolute;border-left: 1px solid gray;box-sizing: border-box;top: 0;bottom: 0;left: 50%;z-index: 0;}#sk-container-id-9 div.sk-serial {display: flex;flex-direction: column;align-items: center;background-color: white;padding-right: 0.2em;padding-left: 0.2em;position: relative;}#sk-container-id-9 div.sk-item {position: relative;z-index: 1;}#sk-container-id-9 div.sk-parallel {display: flex;align-items: stretch;justify-content: center;background-color: white;position: relative;}#sk-container-id-9 div.sk-item::before, #sk-container-id-9 div.sk-parallel-item::before {content: \"\";position: absolute;border-left: 1px solid gray;box-sizing: border-box;top: 0;bottom: 0;left: 50%;z-index: -1;}#sk-container-id-9 div.sk-parallel-item {display: flex;flex-direction: column;z-index: 1;position: relative;background-color: white;}#sk-container-id-9 div.sk-parallel-item:first-child::after {align-self: flex-end;width: 50%;}#sk-container-id-9 div.sk-parallel-item:last-child::after {align-self: flex-start;width: 50%;}#sk-container-id-9 div.sk-parallel-item:only-child::after {width: 0;}#sk-container-id-9 div.sk-dashed-wrapped {border: 1px dashed gray;margin: 0 0.4em 0.5em 0.4em;box-sizing: border-box;padding-bottom: 0.4em;background-color: white;}#sk-container-id-9 div.sk-label label {font-family: monospace;font-weight: bold;display: inline-block;line-height: 1.2em;}#sk-container-id-9 div.sk-label-container {text-align: center;}#sk-container-id-9 div.sk-container {/* jupyter's `normalize.less` sets `[hidden] { display: none; }` but bootstrap.min.css set `[hidden] { display: none !important; }` so we also need the `!important` here to be able to override the default hidden behavior on the sphinx rendered scikit-learn.org. See: https://github.com/scikit-learn/scikit-learn/issues/21755 */display: inline-block !important;position: relative;}#sk-container-id-9 div.sk-text-repr-fallback {display: none;}</style><div id=\"sk-container-id-9\" class=\"sk-top-container\"><div class=\"sk-text-repr-fallback\"><pre>SVC()</pre><b>In a Jupyter environment, please rerun this cell to show the HTML representation or trust the notebook. <br />On GitHub, the HTML representation is unable to render, please try loading this page with nbviewer.org.</b></div><div class=\"sk-container\" hidden><div class=\"sk-item\"><div class=\"sk-estimator sk-toggleable\"><input class=\"sk-toggleable__control sk-hidden--visually\" id=\"sk-estimator-id-9\" type=\"checkbox\" checked><label for=\"sk-estimator-id-9\" class=\"sk-toggleable__label sk-toggleable__label-arrow\">SVC</label><div class=\"sk-toggleable__content\"><pre>SVC()</pre></div></div></div></div></div>"
      ],
      "text/plain": [
       "SVC()"
      ]
     },
     "execution_count": 54,
     "metadata": {},
     "output_type": "execute_result"
    }
   ],
   "source": [
    "create_SVM_classifier(features_4, result_4, 'rbf')"
   ]
  },
  {
   "cell_type": "code",
   "execution_count": 55,
   "metadata": {},
   "outputs": [
    {
     "name": "stdout",
     "output_type": "stream",
     "text": [
      "precision sur data train:  0.9656357388316151\n",
      "precision sur data test:  0.9875\n",
      "precision sur data valid:  0.986731843575419\n",
      "['mfcc1', 'mfcc4', 'mfcc7', 'mfcc10', 'mfcc13', 'mfcc16', 'mfcc19']\n"
     ]
    },
    {
     "data": {
      "text/html": [
       "<style>#sk-container-id-10 {color: black;background-color: white;}#sk-container-id-10 pre{padding: 0;}#sk-container-id-10 div.sk-toggleable {background-color: white;}#sk-container-id-10 label.sk-toggleable__label {cursor: pointer;display: block;width: 100%;margin-bottom: 0;padding: 0.3em;box-sizing: border-box;text-align: center;}#sk-container-id-10 label.sk-toggleable__label-arrow:before {content: \"▸\";float: left;margin-right: 0.25em;color: #696969;}#sk-container-id-10 label.sk-toggleable__label-arrow:hover:before {color: black;}#sk-container-id-10 div.sk-estimator:hover label.sk-toggleable__label-arrow:before {color: black;}#sk-container-id-10 div.sk-toggleable__content {max-height: 0;max-width: 0;overflow: hidden;text-align: left;background-color: #f0f8ff;}#sk-container-id-10 div.sk-toggleable__content pre {margin: 0.2em;color: black;border-radius: 0.25em;background-color: #f0f8ff;}#sk-container-id-10 input.sk-toggleable__control:checked~div.sk-toggleable__content {max-height: 200px;max-width: 100%;overflow: auto;}#sk-container-id-10 input.sk-toggleable__control:checked~label.sk-toggleable__label-arrow:before {content: \"▾\";}#sk-container-id-10 div.sk-estimator input.sk-toggleable__control:checked~label.sk-toggleable__label {background-color: #d4ebff;}#sk-container-id-10 div.sk-label input.sk-toggleable__control:checked~label.sk-toggleable__label {background-color: #d4ebff;}#sk-container-id-10 input.sk-hidden--visually {border: 0;clip: rect(1px 1px 1px 1px);clip: rect(1px, 1px, 1px, 1px);height: 1px;margin: -1px;overflow: hidden;padding: 0;position: absolute;width: 1px;}#sk-container-id-10 div.sk-estimator {font-family: monospace;background-color: #f0f8ff;border: 1px dotted black;border-radius: 0.25em;box-sizing: border-box;margin-bottom: 0.5em;}#sk-container-id-10 div.sk-estimator:hover {background-color: #d4ebff;}#sk-container-id-10 div.sk-parallel-item::after {content: \"\";width: 100%;border-bottom: 1px solid gray;flex-grow: 1;}#sk-container-id-10 div.sk-label:hover label.sk-toggleable__label {background-color: #d4ebff;}#sk-container-id-10 div.sk-serial::before {content: \"\";position: absolute;border-left: 1px solid gray;box-sizing: border-box;top: 0;bottom: 0;left: 50%;z-index: 0;}#sk-container-id-10 div.sk-serial {display: flex;flex-direction: column;align-items: center;background-color: white;padding-right: 0.2em;padding-left: 0.2em;position: relative;}#sk-container-id-10 div.sk-item {position: relative;z-index: 1;}#sk-container-id-10 div.sk-parallel {display: flex;align-items: stretch;justify-content: center;background-color: white;position: relative;}#sk-container-id-10 div.sk-item::before, #sk-container-id-10 div.sk-parallel-item::before {content: \"\";position: absolute;border-left: 1px solid gray;box-sizing: border-box;top: 0;bottom: 0;left: 50%;z-index: -1;}#sk-container-id-10 div.sk-parallel-item {display: flex;flex-direction: column;z-index: 1;position: relative;background-color: white;}#sk-container-id-10 div.sk-parallel-item:first-child::after {align-self: flex-end;width: 50%;}#sk-container-id-10 div.sk-parallel-item:last-child::after {align-self: flex-start;width: 50%;}#sk-container-id-10 div.sk-parallel-item:only-child::after {width: 0;}#sk-container-id-10 div.sk-dashed-wrapped {border: 1px dashed gray;margin: 0 0.4em 0.5em 0.4em;box-sizing: border-box;padding-bottom: 0.4em;background-color: white;}#sk-container-id-10 div.sk-label label {font-family: monospace;font-weight: bold;display: inline-block;line-height: 1.2em;}#sk-container-id-10 div.sk-label-container {text-align: center;}#sk-container-id-10 div.sk-container {/* jupyter's `normalize.less` sets `[hidden] { display: none; }` but bootstrap.min.css set `[hidden] { display: none !important; }` so we also need the `!important` here to be able to override the default hidden behavior on the sphinx rendered scikit-learn.org. See: https://github.com/scikit-learn/scikit-learn/issues/21755 */display: inline-block !important;position: relative;}#sk-container-id-10 div.sk-text-repr-fallback {display: none;}</style><div id=\"sk-container-id-10\" class=\"sk-top-container\"><div class=\"sk-text-repr-fallback\"><pre>SVC()</pre><b>In a Jupyter environment, please rerun this cell to show the HTML representation or trust the notebook. <br />On GitHub, the HTML representation is unable to render, please try loading this page with nbviewer.org.</b></div><div class=\"sk-container\" hidden><div class=\"sk-item\"><div class=\"sk-estimator sk-toggleable\"><input class=\"sk-toggleable__control sk-hidden--visually\" id=\"sk-estimator-id-10\" type=\"checkbox\" checked><label for=\"sk-estimator-id-10\" class=\"sk-toggleable__label sk-toggleable__label-arrow\">SVC</label><div class=\"sk-toggleable__content\"><pre>SVC()</pre></div></div></div></div></div>"
      ],
      "text/plain": [
       "SVC()"
      ]
     },
     "execution_count": 55,
     "metadata": {},
     "output_type": "execute_result"
    }
   ],
   "source": [
    "create_SVM_classifier(features_5, result_5, 'rbf')"
   ]
  },
  {
   "cell_type": "code",
   "execution_count": 56,
   "metadata": {},
   "outputs": [
    {
     "name": "stdout",
     "output_type": "stream",
     "text": [
      "precision sur data train:  0.8853850818677986\n",
      "precision sur data test:  0.8734375\n",
      "precision sur data valid:  0.86731843575419\n",
      "['mfcc2']\n"
     ]
    },
    {
     "data": {
      "text/html": [
       "<style>#sk-container-id-11 {color: black;background-color: white;}#sk-container-id-11 pre{padding: 0;}#sk-container-id-11 div.sk-toggleable {background-color: white;}#sk-container-id-11 label.sk-toggleable__label {cursor: pointer;display: block;width: 100%;margin-bottom: 0;padding: 0.3em;box-sizing: border-box;text-align: center;}#sk-container-id-11 label.sk-toggleable__label-arrow:before {content: \"▸\";float: left;margin-right: 0.25em;color: #696969;}#sk-container-id-11 label.sk-toggleable__label-arrow:hover:before {color: black;}#sk-container-id-11 div.sk-estimator:hover label.sk-toggleable__label-arrow:before {color: black;}#sk-container-id-11 div.sk-toggleable__content {max-height: 0;max-width: 0;overflow: hidden;text-align: left;background-color: #f0f8ff;}#sk-container-id-11 div.sk-toggleable__content pre {margin: 0.2em;color: black;border-radius: 0.25em;background-color: #f0f8ff;}#sk-container-id-11 input.sk-toggleable__control:checked~div.sk-toggleable__content {max-height: 200px;max-width: 100%;overflow: auto;}#sk-container-id-11 input.sk-toggleable__control:checked~label.sk-toggleable__label-arrow:before {content: \"▾\";}#sk-container-id-11 div.sk-estimator input.sk-toggleable__control:checked~label.sk-toggleable__label {background-color: #d4ebff;}#sk-container-id-11 div.sk-label input.sk-toggleable__control:checked~label.sk-toggleable__label {background-color: #d4ebff;}#sk-container-id-11 input.sk-hidden--visually {border: 0;clip: rect(1px 1px 1px 1px);clip: rect(1px, 1px, 1px, 1px);height: 1px;margin: -1px;overflow: hidden;padding: 0;position: absolute;width: 1px;}#sk-container-id-11 div.sk-estimator {font-family: monospace;background-color: #f0f8ff;border: 1px dotted black;border-radius: 0.25em;box-sizing: border-box;margin-bottom: 0.5em;}#sk-container-id-11 div.sk-estimator:hover {background-color: #d4ebff;}#sk-container-id-11 div.sk-parallel-item::after {content: \"\";width: 100%;border-bottom: 1px solid gray;flex-grow: 1;}#sk-container-id-11 div.sk-label:hover label.sk-toggleable__label {background-color: #d4ebff;}#sk-container-id-11 div.sk-serial::before {content: \"\";position: absolute;border-left: 1px solid gray;box-sizing: border-box;top: 0;bottom: 0;left: 50%;z-index: 0;}#sk-container-id-11 div.sk-serial {display: flex;flex-direction: column;align-items: center;background-color: white;padding-right: 0.2em;padding-left: 0.2em;position: relative;}#sk-container-id-11 div.sk-item {position: relative;z-index: 1;}#sk-container-id-11 div.sk-parallel {display: flex;align-items: stretch;justify-content: center;background-color: white;position: relative;}#sk-container-id-11 div.sk-item::before, #sk-container-id-11 div.sk-parallel-item::before {content: \"\";position: absolute;border-left: 1px solid gray;box-sizing: border-box;top: 0;bottom: 0;left: 50%;z-index: -1;}#sk-container-id-11 div.sk-parallel-item {display: flex;flex-direction: column;z-index: 1;position: relative;background-color: white;}#sk-container-id-11 div.sk-parallel-item:first-child::after {align-self: flex-end;width: 50%;}#sk-container-id-11 div.sk-parallel-item:last-child::after {align-self: flex-start;width: 50%;}#sk-container-id-11 div.sk-parallel-item:only-child::after {width: 0;}#sk-container-id-11 div.sk-dashed-wrapped {border: 1px dashed gray;margin: 0 0.4em 0.5em 0.4em;box-sizing: border-box;padding-bottom: 0.4em;background-color: white;}#sk-container-id-11 div.sk-label label {font-family: monospace;font-weight: bold;display: inline-block;line-height: 1.2em;}#sk-container-id-11 div.sk-label-container {text-align: center;}#sk-container-id-11 div.sk-container {/* jupyter's `normalize.less` sets `[hidden] { display: none; }` but bootstrap.min.css set `[hidden] { display: none !important; }` so we also need the `!important` here to be able to override the default hidden behavior on the sphinx rendered scikit-learn.org. See: https://github.com/scikit-learn/scikit-learn/issues/21755 */display: inline-block !important;position: relative;}#sk-container-id-11 div.sk-text-repr-fallback {display: none;}</style><div id=\"sk-container-id-11\" class=\"sk-top-container\"><div class=\"sk-text-repr-fallback\"><pre>SVC()</pre><b>In a Jupyter environment, please rerun this cell to show the HTML representation or trust the notebook. <br />On GitHub, the HTML representation is unable to render, please try loading this page with nbviewer.org.</b></div><div class=\"sk-container\" hidden><div class=\"sk-item\"><div class=\"sk-estimator sk-toggleable\"><input class=\"sk-toggleable__control sk-hidden--visually\" id=\"sk-estimator-id-11\" type=\"checkbox\" checked><label for=\"sk-estimator-id-11\" class=\"sk-toggleable__label sk-toggleable__label-arrow\">SVC</label><div class=\"sk-toggleable__content\"><pre>SVC()</pre></div></div></div></div></div>"
      ],
      "text/plain": [
       "SVC()"
      ]
     },
     "execution_count": 56,
     "metadata": {},
     "output_type": "execute_result"
    }
   ],
   "source": [
    "create_SVM_classifier(features_6, result_6, 'rbf')"
   ]
  },
  {
   "cell_type": "markdown",
   "metadata": {},
   "source": [
    "Construction de la matrice de confusion pour ['zcr', 'rolloff', 'mfcc2', 'mfcc12']"
   ]
  },
  {
   "cell_type": "code",
   "execution_count": 19,
   "metadata": {},
   "outputs": [],
   "source": [
    "from conf_matrix import show_confusion_matrix\n",
    "from sklearn.metrics import confusion_matrix\n",
    "\n"
   ]
  },
  {
   "cell_type": "code",
   "execution_count": 20,
   "metadata": {},
   "outputs": [],
   "source": [
    "X_test_full = pd.read_csv('Features/features_dataset_test.csv').iloc[:,1:25]\n",
    "X_test = X_test_full.loc[:, features_2] \n",
    "L = SVM_2.predict(X_test)"
   ]
  },
  {
   "cell_type": "code",
   "execution_count": 21,
   "metadata": {},
   "outputs": [],
   "source": [
    "Y_test = pd.read_csv('Features/features_dataset_test_labels.csv').iloc[:,24]\n"
   ]
  },
  {
   "cell_type": "code",
   "execution_count": 22,
   "metadata": {},
   "outputs": [
    {
     "data": {
      "image/png": "[encoded data removed]",
      "text/plain": [
       "<Figure size 720x720 with 1 Axes>"
      ]
     },
     "metadata": {
      "needs_background": "light"
     },
     "output_type": "display_data"
    }
   ],
   "source": [
    "cm = confusion_matrix(Y_test, L)\n",
    "\n",
    "class_names = ['Pas feu', 'Feu']\n",
    "\n",
    "show_confusion_matrix(cm, class_names)"
   ]
  },
  {
   "attachments": {},
   "cell_type": "markdown",
   "metadata": {},
   "source": [
    "Enregistrement du modèle: ['zcr', 'rolloff', 'mfcc2', 'mfcc12']"
   ]
  },
  {
   "cell_type": "code",
   "execution_count": 25,
   "metadata": {},
   "outputs": [],
   "source": [
    "filename = 'SVM_1.sav'\n",
    "pickle.dump(SVM_2, open(filename, 'wb'))"
   ]
  },
  {
   "attachments": {},
   "cell_type": "markdown",
   "metadata": {},
   "source": [
    "Chargement du modèle: ['zcr', 'rolloff', 'mfcc2', 'mfcc12']"
   ]
  },
  {
   "cell_type": "code",
   "execution_count": 26,
   "metadata": {},
   "outputs": [],
   "source": [
    "loaded_SVM_1 = pickle.load(open(filename, 'rb'))\n"
   ]
  },
  {
   "attachments": {},
   "cell_type": "markdown",
   "metadata": {},
   "source": [
    "Tracer diagrammes barres des résultats des SVM"
   ]
  },
  {
   "cell_type": "code",
   "execution_count": 57,
   "metadata": {},
   "outputs": [],
   "source": [
    "SVMs = [features_1[0],features_2[0],features_3[0],features_4[0],features_5[0],features_6[0]]"
   ]
  },
  {
   "cell_type": "code",
   "execution_count": 64,
   "metadata": {},
   "outputs": [
    {
     "data": {
      "image/png": "[encoded data removed]",
      "text/plain": [
       "<Figure size 432x288 with 1 Axes>"
      ]
     },
     "metadata": {
      "needs_background": "light"
     },
     "output_type": "display_data"
    }
   ],
   "source": [
    "#SVMs = [\"Echantillon 1\",\"Echantillon 2\",\"Echantillon 3\"] # 3 échantillons\n",
    "\n",
    "Sous_categories = ['Train', 'Test', 'Validation'] # comparés selon 4 critères\n",
    "\n",
    "# Valeurs pour chaque catégories\n",
    "\n",
    "y1 = [1, 2, 5, 2] ; y2 = [1, 6, 4, 2] ; y3 = [1, 6, 4, 2]\n",
    "\n",
    "from math import * \n",
    "\n",
    "nb_categories = len(SVMs)\n",
    "\n",
    "largeur_barre = floor(1*10/nb_categories)/10\n",
    "\n",
    "x1 = range(len(result_1))\n",
    "\n",
    "x2 = [i + largeur_barre for i in x1]\n",
    "\n",
    "x3 = [i + 2*largeur_barre for i in x1]\n",
    "\n",
    "x4 = [i + 3*largeur_barre for i in x1]\n",
    "\n",
    "x5 = [i + 4*largeur_barre for i in x1]\n",
    "\n",
    "x6 = [i + 5*largeur_barre for i in x1]\n",
    "\n",
    "import matplotlib.pyplot as plt\n",
    "\n",
    "plt.bar(x1, result_1, width = largeur_barre, color = 'red',\n",
    "\n",
    "           edgecolor = 'black', linewidth = 2)\n",
    "\n",
    "plt.bar(x2, result_2, width = largeur_barre, color = 'blue',\n",
    "\n",
    "           edgecolor = 'black', linewidth = 2)\n",
    "\n",
    "plt.bar(x3, result_3, width = largeur_barre, color = 'green',\n",
    "\n",
    "           edgecolor = 'black', linewidth = 2)\n",
    "\n",
    "plt.bar(x4, result_4, width = largeur_barre, color = 'orange',\n",
    "\n",
    "           edgecolor = 'black', linewidth = 2)\n",
    "\n",
    "plt.bar(x5, result_5, width = largeur_barre, color = 'pink',\n",
    "\n",
    "           edgecolor = 'black', linewidth = 2)\n",
    "\n",
    "plt.bar(x6, result_6, width = largeur_barre, color = 'yellow',\n",
    "\n",
    "           edgecolor = 'black', linewidth = 2)\n",
    "\n",
    "\n",
    "plt.xticks([r + largeur_barre / nb_categories for r in range(len(result_1))],\n",
    "\n",
    "              Sous_categories)\n",
    "\n",
    "plt.legend(SVMs,loc=3)\n",
    "\n",
    "plt.title(\"Résultats des SVMs sur les datasets\")\n",
    "\n",
    "plt.show()"
   ]
  }
 ],
 "metadata": {
  "kernelspec": {
   "display_name": "Python 3",
   "language": "python",
   "name": "python3"
  },
  "language_info": {
   "codemirror_mode": {
    "name": "ipython",
    "version": 3
   },
   "file_extension": ".py",
   "mimetype": "text/x-python",
   "name": "python",
   "nbconvert_exporter": "python",
   "pygments_lexer": "ipython3",
   "version": "3.9.6 (tags/v3.9.6:db3ff76, Jun 28 2021, 15:26:21) [MSC v.1929 64 bit (AMD64)]"
  },
  "orig_nbformat": 4,
  "vscode": {
   "interpreter": {
    "hash": "124860c735baad30d0d0699d1d1002dff43b098acb5cf5aad4b313f34f566040"
   }
  }
 },
 "nbformat": 4,
 "nbformat_minor": 2
}
